
Importing Packages
import numpy as np
import pandas as pd
import matplotlib.pyplot as plt
import seaborn as sns
%matplotlib inline 
Loading Dataset
df = pd.read_csv('cardekho_imputated.csv')
df.head()
Unnamed: 0	car_name	brand	model	min_cost_price	max_cost_price	vehicle_age	km_driven	seller_type	fuel_type	transmission_type	mileage	engine	max_power	seats	selling_price
0	0	Maruti Alto	Maruti	Alto	3.570039e+05	4.654015e+05	9	120000	Individual	Petrol	Manual	19.70	796	46.30	5	120000
1	1	Hyundai Grand	Hyundai	Grand	7.110000e+05	7.480000e+05	5	20000	Individual	Petrol	Manual	18.90	1197	82.00	5	550000
2	2	Hyundai i20	Hyundai	i20	8.540829e+05	1.307926e+06	11	60000	Individual	Petrol	Manual	17.00	1197	80.00	5	215000
3	3	Maruti Alto	Maruti	Alto	3.570039e+05	4.654015e+05	9	37000	Individual	Petrol	Manual	20.92	998	67.10	5	226000
4	4	Ford Ecosport	Ford	Ecosport	1.014000e+06	1.379000e+06	6	30000	Dealer	Diesel	Manual	22.77	1498	98.59	5	570000
df.info()
<class 'pandas.core.frame.DataFrame'>
RangeIndex: 15411 entries, 0 to 15410
Data columns (total 16 columns):
 #   Column             Non-Null Count  Dtype  
---  ------             --------------  -----  
 0   Unnamed: 0         15411 non-null  int64  
 1   car_name           15411 non-null  object 
 2   brand              15411 non-null  object 
 3   model              15411 non-null  object 
 4   min_cost_price     15411 non-null  float64
 5   max_cost_price     15411 non-null  float64
 6   vehicle_age        15411 non-null  int64  
 7   km_driven          15411 non-null  int64  
 8   seller_type        15411 non-null  object 
 9   fuel_type          15411 non-null  object 
 10  transmission_type  15411 non-null  object 
 11  mileage            15411 non-null  float64
 12  engine             15411 non-null  int64  
 13  max_power          15411 non-null  float64
 14  seats              15411 non-null  int64  
 15  selling_price      15411 non-null  int64  
dtypes: float64(4), int64(6), object(6)
memory usage: 1.9+ MB
df['model']
0            Alto
1           Grand
2             i20
3            Alto
4        Ecosport
           ...   
15406         i10
15407      Ertiga
15408       Rapid
15409      XUV500
15410        City
Name: model, Length: 15411, dtype: object
Cleaning the Dataset
df[['min_cost_price','max_cost_price','mileage','max_power']]=df[['min_cost_price','max_cost_price','mileage','max_power']].astype(int)
df.info()
<class 'pandas.core.frame.DataFrame'>
RangeIndex: 15411 entries, 0 to 15410
Data columns (total 16 columns):
 #   Column             Non-Null Count  Dtype 
---  ------             --------------  ----- 
 0   Unnamed: 0         15411 non-null  int64 
 1   car_name           15411 non-null  object
 2   brand              15411 non-null  object
 3   model              15411 non-null  object
 4   min_cost_price     15411 non-null  int64 
 5   max_cost_price     15411 non-null  int64 
 6   vehicle_age        15411 non-null  int64 
 7   km_driven          15411 non-null  int64 
 8   seller_type        15411 non-null  object
 9   fuel_type          15411 non-null  object
 10  transmission_type  15411 non-null  object
 11  mileage            15411 non-null  int64 
 12  engine             15411 non-null  int64 
 13  max_power          15411 non-null  int64 
 14  seats              15411 non-null  int64 
 15  selling_price      15411 non-null  int64 
dtypes: int64(10), object(6)
memory usage: 1.9+ MB
df.describe()
Unnamed: 0	min_cost_price	max_cost_price	vehicle_age	km_driven	mileage	engine	max_power	seats	selling_price
count	15411.000000	1.541100e+04	1.541100e+04	15411.000000	1.541100e+04	15411.000000	15411.000000	15411.000000	15411.000000	1.541100e+04
mean	9811.857699	5.892971e+06	1.962624e+06	6.036338	5.561648e+04	19.250535	1486.057751	100.245020	5.325482	7.749711e+05
std	5643.418542	5.669851e+07	2.889636e+06	3.013291	5.161855e+04	4.192262	521.106696	42.980942	0.807628	8.941284e+05
min	0.000000	3.110000e+05	4.360000e+05	0.000000	1.000000e+02	4.000000	793.000000	38.000000	0.000000	4.000000e+04
25%	4906.500000	6.680000e+05	8.728660e+05	4.000000	3.000000e+04	17.000000	1197.000000	74.000000	5.000000	3.850000e+05
50%	9872.000000	8.550000e+05	1.206000e+06	6.000000	5.000000e+04	19.000000	1248.000000	88.000000	5.000000	5.560000e+05
75%	14668.500000	1.284000e+06	1.743000e+06	8.000000	7.000000e+04	22.000000	1582.000000	117.000000	5.000000	8.250000e+05
max	19543.000000	9.880000e+08	9.110000e+07	29.000000	3.800000e+06	33.000000	6592.000000	626.000000	9.000000	3.950000e+07
df = df[df['selling_price']<21e05]
df.to_csv('Cleaned Car Data.csv')
df.reset_index(drop=True)
Unnamed: 0	car_name	brand	model	min_cost_price	max_cost_price	vehicle_age	km_driven	seller_type	fuel_type	transmission_type	mileage	engine	max_power	seats	selling_price
0	0	Maruti Alto	Maruti	Alto	357003	465401	9	120000	Individual	Petrol	Manual	19	796	46	5	120000
1	1	Hyundai Grand	Hyundai	Grand	711000	748000	5	20000	Individual	Petrol	Manual	18	1197	82	5	550000
2	2	Hyundai i20	Hyundai	i20	854082	1307925	11	60000	Individual	Petrol	Manual	17	1197	80	5	215000
3	3	Maruti Alto	Maruti	Alto	357003	465401	9	37000	Individual	Petrol	Manual	20	998	67	5	226000
4	4	Ford Ecosport	Ford	Ecosport	1014000	1379000	6	30000	Dealer	Diesel	Manual	22	1498	98	5	570000
...	...	...	...	...	...	...	...	...	...	...	...	...	...	...	...	...
14654	19537	Hyundai i10	Hyundai	i10	698320	729333	9	10723	Dealer	Petrol	Manual	19	1086	68	5	250000
14655	19540	Maruti Ertiga	Maruti	Ertiga	926776	1149968	2	18000	Dealer	Petrol	Manual	17	1373	91	7	925000
14656	19541	Skoda Rapid	Skoda	Rapid	892632	1563551	6	67000	Dealer	Diesel	Manual	21	1498	103	5	425000
14657	19542	Mahindra XUV500	Mahindra	XUV500	1783000	2491000	5	3800000	Dealer	Diesel	Manual	16	2179	140	7	1225000
14658	19543	Honda City	Honda	City	1330978	1707437	2	13000	Dealer	Petrol	Automatic	18	1497	117	5	1200000
14659 rows × 16 columns

df.columns
Index(['Unnamed: 0', 'car_name', 'brand', 'model', 'min_cost_price',
       'max_cost_price', 'vehicle_age', 'km_driven', 'seller_type',
       'fuel_type', 'transmission_type', 'mileage', 'engine', 'max_power',
       'seats', 'selling_price'],
      dtype='object')
df.drop(columns='Unnamed: 0')
car_name	brand	model	min_cost_price	max_cost_price	vehicle_age	km_driven	seller_type	fuel_type	transmission_type	mileage	engine	max_power	seats	selling_price
0	Maruti Alto	Maruti	Alto	357003	465401	9	120000	Individual	Petrol	Manual	19	796	46	5	120000
1	Hyundai Grand	Hyundai	Grand	711000	748000	5	20000	Individual	Petrol	Manual	18	1197	82	5	550000
2	Hyundai i20	Hyundai	i20	854082	1307925	11	60000	Individual	Petrol	Manual	17	1197	80	5	215000
3	Maruti Alto	Maruti	Alto	357003	465401	9	37000	Individual	Petrol	Manual	20	998	67	5	226000
4	Ford Ecosport	Ford	Ecosport	1014000	1379000	6	30000	Dealer	Diesel	Manual	22	1498	98	5	570000
...	...	...	...	...	...	...	...	...	...	...	...	...	...	...	...
15406	Hyundai i10	Hyundai	i10	698320	729333	9	10723	Dealer	Petrol	Manual	19	1086	68	5	250000
15407	Maruti Ertiga	Maruti	Ertiga	926776	1149968	2	18000	Dealer	Petrol	Manual	17	1373	91	7	925000
15408	Skoda Rapid	Skoda	Rapid	892632	1563551	6	67000	Dealer	Diesel	Manual	21	1498	103	5	425000
15409	Mahindra XUV500	Mahindra	XUV500	1783000	2491000	5	3800000	Dealer	Diesel	Manual	16	2179	140	7	1225000
15410	Honda City	Honda	City	1330978	1707437	2	13000	Dealer	Petrol	Automatic	18	1497	117	5	1200000
14659 rows × 15 columns

EDA & Visualizations
1. Finding the most common car sold
font2 = {'family':'bahnschrift','color':'black','size':20}

print(df.car_name.value_counts()[0:20])
df.car_name.value_counts()[0:20].plot(kind = 'bar', figsize=(14,7))
plt.xlabel("Car model", fontdict=font2)
plt.ylabel("Count", fontdict=font2)
Hyundai i20           906
Maruti Swift Dzire    890
Maruti Swift          781
Maruti Alto           778
Honda City            757
Maruti Wagon R        717
Hyundai Grand         580
Toyota Innova         530
Hyundai Verna         492
Hyundai i10           410
Ford Ecosport         374
Volkswagen Polo       373
Maruti Baleno         364
Honda Amaze           362
Maruti Ciaz           346
Maruti Ertiga         343
Hyundai Creta         336
Mahindra XUV500       330
Renault KWID          306
Maruti Vitara         295
Name: car_name, dtype: int64
Text(0, 0.5, 'Count')
findfont: Font family ['bahnschrift'] not found. Falling back to DejaVu Sans.

From the visulaization above we can say that the most common car model that has been re-selled is 'Hyundia i20' and the least re-selled car model is 'Maruti Vitara'.
i. Average selling price of Hyundia i20
Hi20 = df[df['car_name'] == 'Hyundai i20']['selling_price'].mean()
print("Average selling price of Hyundia i20 is Rs. {}".format(round(Hi20)))
Average selling price of Hyundia i20 is Rs. 543604
ii. Average selling price of Maruti Vitara
MV = df[df['car_name'] == 'Maruti Vitara']['selling_price'].mean()
print("Average selling price of Maruti Vitara is Rs. {}".format(round(MV)))
Average selling price of Maruti Vitara is Rs. 830597
2. Finding the common car brands
df.brand.value_counts()
Maruti           4992
Hyundai          2981
Honda            1479
Mahindra         1008
Ford              758
Toyota            700
Volkswagen        620
Renault           536
Tata              430
Skoda             323
BMW               198
Mercedes-Benz     183
Datsun            170
Audi              137
Jeep               38
Kia                28
MG                 19
Jaguar             16
Mini               11
Nissan             11
Isuzu               7
Volvo               6
Land Rover          4
ISUZU               2
Porsche             1
Force               1
Name: brand, dtype: int64
df.brand.value_counts().plot(kind = 'bar', figsize=(15,7))
plt.xlabel("Car Brand", fontdict=font2)
plt.ylabel("Count", fontdict=font2)
Text(0, 0.5, 'Count')

Even though the Maruti Vitara is the least re-selled common car, but there are more Maruti car models in the selling market as compared to other brands
3. How old most of the cars are being sold
df['vehicle_age'].value_counts().plot(kind = 'bar', figsize=(15,6))
plt.xlabel('Vehicle Age', fontdict=font2)
plt.ylabel('Count', fontdict=font2)
Text(0, 0.5, 'Count')

Most of the cars being sold are 4 or 5 years old.
4. Finding average mileage of car brands
df.groupby(['brand'])['mileage'].mean().sort_values(ascending = False)
brand
Maruti           21.950721
Renault          21.843284
Datsun           20.652941
Ford             19.879947
Honda            19.527383
Tata             19.281395
Hyundai          19.099631
Mini             18.636364
Volkswagen       18.396774
Skoda            17.294118
Kia              17.107143
Force            17.000000
Jeep             16.473684
BMW              16.146465
Audi             15.905109
Nissan           15.818182
Mahindra         15.566468
Jaguar           15.312500
MG               14.894737
ISUZU            13.000000
Mercedes-Benz    12.972678
Volvo            12.500000
Toyota           12.471429
Land Rover       12.000000
Isuzu            12.000000
Porsche           8.000000
Name: mileage, dtype: float64
df.groupby(['brand'])['mileage'].mean().sort_values(ascending = False).plot(kind = 'bar', figsize=(15,7))
plt.xlabel('Car Brand', fontdict=font2)
plt.ylabel('Average Mileage', fontdict=font2)
Text(0, 0.5, 'Average Mileage')

The average mileage of Maruti cars is much more greater than other car brands.
Maruti has the best mileage of all brands = 22.45 kms/lit
Renault and Datsun stood next with average of 22 kms/lit and 21.21 kms/lit respectively.

5. Top 10 car model with highest average
df.sort_values(by=['mileage'], ascending = False).head(10)
Unnamed: 0	car_name	brand	model	min_cost_price	max_cost_price	vehicle_age	km_driven	seller_type	fuel_type	transmission_type	mileage	engine	max_power	seats	selling_price
11727	14883	Maruti Wagon R	Maruti	Wagon R	545348	691769	4	30000	Individual	CNG	Manual	33	998	67	5	450000
12259	15540	Maruti Alto	Maruti	Alto	497000	502000	4	20700	Dealer	CNG	Manual	33	796	40	4	381000
12696	16102	Maruti Wagon R	Maruti	Wagon R	610000	618000	5	53000	Dealer	CNG	Manual	33	998	67	5	380000
9960	12746	Maruti Wagon R	Maruti	Wagon R	545348	691769	3	55000	Dealer	CNG	Manual	33	998	67	5	380000
13800	17518	Maruti Alto	Maruti	Alto	497000	502000	5	77658	Dealer	CNG	Manual	33	796	40	4	325000
11310	14361	Maruti Wagon R	Maruti	Wagon R	597000	604000	5	65000	Dealer	CNG	Manual	33	998	67	5	310000
13841	17567	Maruti Alto	Maruti	Alto	357003	465401	3	59000	Dealer	CNG	Manual	33	796	40	4	300000
1250	1606	Maruti Wagon R	Maruti	Wagon R	597000	604000	4	32013	Trustmark Dealer	CNG	Manual	33	998	67	5	380000
10303	13152	Maruti Wagon R	Maruti	Wagon R	597000	604000	9	71000	Dealer	CNG	Manual	33	998	67	5	275000
2364	3019	Maruti Wagon R	Maruti	Wagon R	609000	617000	8	63000	Dealer	CNG	Manual	33	998	67	5	351000
The Maruti Wagon R and the Maruti Alto dominates in the average mileage category.

df[df['car_name'] == 'Maruti Wagon R']['fuel_type'].value_counts()
Petrol    563
CNG       123
LPG        31
Name: fuel_type, dtype: int64
df[df['car_name'] == 'Maruti Wagon R'].groupby(['fuel_type'])['mileage'].mean()
fuel_type
CNG       28.00000
LPG       18.16129
Petrol    19.25222
Name: mileage, dtype: float64
There are more petrol Maruti Wagon R cars, but the highest mileage is given by the CNG type fuel.

6. Comparision between dominating car models
# Comparison between dominated cars in the selling market

plt.bar(['Hyundai i20', 'Maruti Wagon R', 'Maruti Alto'],
        [df[df['car_name'] == 'Hyundai i20']['vehicle_age'].mean(),
         df[df['car_name'] == 'Maruti Wagon R']['vehicle_age'].mean(),
         df[df['car_name'] == 'Maruti Alto']['vehicle_age'].mean()])

plt.xlabel('Car model', fontdict = font2)
plt.ylabel('Average Vehicle Age', fontdict = font2)
plt.show()

# The plot shows the average age of Dominated car models

df[df['car_name'] == 'Hyundai i20']['seller_type'].value_counts().plot(kind = 'bar')

plt.xlabel('Seller Type', fontdict=font2)
plt.ylabel('Count', fontdict=font2)

plt.show()

Large number of Hyundai i20 car models are sold by Dealers.

df[df['car_name'] == 'Maruti Wagon R']['seller_type'].value_counts().plot(kind = 'bar')
plt.xlabel("Seller Type", fontdict=font2)
plt.ylabel("Count", fontdict=font2)
Text(0, 0.5, 'Count')

Large number of Maruti Wagon R car models are sold by Dealers.

df[df['car_name'] == 'Maruti Alto']['seller_type'].value_counts().plot(kind = 'bar')
plt.xlabel("Seller Type", fontdict=font2)
plt.ylabel("Count", fontdict=font2)
Text(0, 0.5, 'Count')

Large number of Maruti Wagon R car models are sold by Individuals.

Maruti WagonR and Alto are giving the best mileage = 33.54 kms/lit as they are in top 6 sold cars.
Top selling Hyundai i20 gives mileage around 20 kms/lit with maximum at 25 kms/lit.
Inspite of less mileage i20 is top selling maybe due to less average vehicle age = 5.83 compared to WagonR = 7.83 and Alto = 7.43.
7. Automatic vs Manual Transmission
sns.scatterplot(data = df, x = df.mileage, y = df.km_driven, hue = df.transmission_type)
plt.show()

The plot above tells us that there are more cars with manual transmission that gives highest mileage.

sns.scatterplot(data = df, x = df.vehicle_age, y = df.mileage)
plt.show()

From the plot above we can say that Mileage decreases as vehicle age increases. This is quite natural as years go, the parts get weared out and its efficiency will decrease gradually

Model Training
# Features to Train
X = df.drop(columns=['selling_price','Unnamed: 0','model'])

#Label data
y=df['selling_price']
X
car_name	brand	min_cost_price	max_cost_price	vehicle_age	km_driven	seller_type	fuel_type	transmission_type	mileage	engine	max_power	seats
0	Maruti Alto	Maruti	357003	465401	9	120000	Individual	Petrol	Manual	19	796	46	5
1	Hyundai Grand	Hyundai	711000	748000	5	20000	Individual	Petrol	Manual	18	1197	82	5
2	Hyundai i20	Hyundai	854082	1307925	11	60000	Individual	Petrol	Manual	17	1197	80	5
3	Maruti Alto	Maruti	357003	465401	9	37000	Individual	Petrol	Manual	20	998	67	5
4	Ford Ecosport	Ford	1014000	1379000	6	30000	Dealer	Diesel	Manual	22	1498	98	5
...	...	...	...	...	...	...	...	...	...	...	...	...	...
15406	Hyundai i10	Hyundai	698320	729333	9	10723	Dealer	Petrol	Manual	19	1086	68	5
15407	Maruti Ertiga	Maruti	926776	1149968	2	18000	Dealer	Petrol	Manual	17	1373	91	7
15408	Skoda Rapid	Skoda	892632	1563551	6	67000	Dealer	Diesel	Manual	21	1498	103	5
15409	Mahindra XUV500	Mahindra	1783000	2491000	5	3800000	Dealer	Diesel	Manual	16	2179	140	7
15410	Honda City	Honda	1330978	1707437	2	13000	Dealer	Petrol	Automatic	18	1497	117	5
14659 rows × 13 columns

X.columns
Index(['car_name', 'brand', 'min_cost_price', 'max_cost_price', 'vehicle_age',
       'km_driven', 'seller_type', 'fuel_type', 'transmission_type', 'mileage',
       'engine', 'max_power', 'seats'],
      dtype='object')
Train-Test Split
#perform the train test split
from sklearn.model_selection import train_test_split
X_train, X_test, y_train, y_test = train_test_split(X, y, test_size=0.2)
#import the linear regression module from linear model in sklearn
from sklearn.linear_model import LinearRegression

#import r2 score for evaluating the performance of the linear model
from sklearn.metrics import r2_score

#import one hot encoder for coversion of categorical values to dummies
from sklearn.preprocessing import OneHotEncoder
OneHotEncoding
# Create object for one hot encoder
ohe = OneHotEncoder()
ohe.fit(X[[ 'car_name','brand', 'seller_type', 'fuel_type',
       'transmission_type']])
OneHotEncoder()
In a Jupyter environment, please rerun this cell to show the HTML representation or trust the notebook.
On GitHub, the HTML representation is unable to render, please try loading this page with nbviewer.org.
#import column transformer to process the column
from sklearn.compose import make_column_transformer

# import pipeline to auto perform the methods
from sklearn.pipeline import make_pipeline
column_trans = make_column_transformer((OneHotEncoder(categories=ohe.categories_), ['car_name','brand', 'seller_type', 'fuel_type',
       'transmission_type']), remainder='passthrough')
Linear Regression Model
lr=LinearRegression()
pipe = make_pipeline(column_trans, lr)
pipe.fit(X_train, y_train)
Pipeline(steps=[('columntransformer',
                 ColumnTransformer(remainder='passthrough',
                                   transformers=[('onehotencoder',
                                                  OneHotEncoder(categories=[array(['Audi A4', 'Audi A6', 'Audi Q7', 'BMW 3', 'BMW 5', 'BMW 6',
       'BMW 7', 'BMW X1', 'BMW X3', 'BMW X5', 'Datsun GO',
       'Datsun RediGO', 'Datsun redi-GO', 'Force Gurkha', 'Ford Aspire',
       'Ford Ecosport', 'Ford Endeavour', 'Ford Figo', 'Ford Freestyle',
       '...
       'Renault', 'Skoda', 'Tata', 'Toyota', 'Volkswagen', 'Volvo'],
      dtype=object),
                                                                            array(['Dealer', 'Individual', 'Trustmark Dealer'], dtype=object),
                                                                            array(['CNG', 'Diesel', 'Electric', 'LPG', 'Petrol'], dtype=object),
                                                                            array(['Automatic', 'Manual'], dtype=object)]),
                                                  ['car_name', 'brand',
                                                   'seller_type', 'fuel_type',
                                                   'transmission_type'])])),
                ('linearregression', LinearRegression())])
In a Jupyter environment, please rerun this cell to show the HTML representation or trust the notebook.
On GitHub, the HTML representation is unable to render, please try loading this page with nbviewer.org.
Evaluating Model performance
y_pred = pipe.predict(X_test)
y_pred
array([ 581482.3392631 ,  334617.71959101,  386257.36167485, ...,
       1222824.41757413,  540302.06526524,  535769.31203771])
#check r2 score
r2_score(y_test, y_pred)
0.7016232359867651
# Make a loop to train the data to choose the best r2 score
scores=[]
for i in range(1000):
    X_train,X_test, y_train, y_test = train_test_split(X,y,test_size=0.2, random_state=i)
    lr=LinearRegression()
    pipe=make_pipeline(column_trans,lr)
    pipe.fit(X_train, y_train)
    y_pred=pipe.predict(X_test)
    scores.append(r2_score(y_test, y_pred))
np.argmax(scores)
236
scores[np.argmax(scores)]
0.7601650688345607
X_train,X_test, y_train, y_test = train_test_split(X,y,test_size=0.2, random_state=np.argmax(scores))
lr=LinearRegression()
pipe=make_pipeline(column_trans,lr)
pipe.fit(X_train, y_train)
y_pred=pipe.predict(X_test)  
r2_score(y_test, y_pred)
0.7601650688345607
pipe.predict(pd.DataFrame([['Maruti Alto', 'Maruti', 749000, 820000, 1, 18000, 'Individual', 
                           'Petrol', 'Automatic', 22, 1197, 113, 5]], columns=[ 'car_name','brand', 'min_cost_price', 'max_cost_price',
       'vehicle_age', 'km_driven', 'seller_type', 'fuel_type',
       'transmission_type', 'mileage', 'engine', 'max_power', 'seats']))
array([952699.73780832])
import pickle
from skops.io import dump, load
pickle.dump(pipe, open('LinearRegressionModel.pkl', 'wb'))
 
---------------------------------------------------------------------------
NameError                                 Traceback (most recent call last)
/tmp/ipykernel_41058/1396537375.py in <module>
----> 1 df

NameError: name 'df' is not defined
Conclusion
The model has r2_score of 76.1%.
The model is well trained on the dataset and is able to predict price based on the different parameters and features of a car.
The model can compare the price with the car's new successor and give the price accordingly.
The model can identify the model/brand of the car and give the pricing according to the market of that model/brand.
Training a perfect model to predict the price of a used car is a little bit challenging, there are different paramters one should look before coming up with a price for that car, features like Transmission Type, Engine Power, Mileage, Fuel Type and many more plays an important role in identifying the market value of a car. The brand of a car is the most important one, a car with low mileage, low engine power but with a high profile brand can have much larger value as compared to a car with high mileage, high power but with a low profile brand.


